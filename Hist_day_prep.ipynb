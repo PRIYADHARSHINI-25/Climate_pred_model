{
 "cells": [
  {
   "cell_type": "code",
   "execution_count": 2,
   "id": "b0218de7-5568-477c-968c-1c2bd3af7dd2",
   "metadata": {
    "tags": []
   },
   "outputs": [],
   "source": [
    "import pandas as pd"
   ]
  },
  {
   "cell_type": "code",
   "execution_count": 4,
   "id": "0bdee227-a1a6-41a3-a65e-a0d910028804",
   "metadata": {
    "tags": []
   },
   "outputs": [
    {
     "data": {
      "text/html": [
       "<div>\n",
       "<style scoped>\n",
       "    .dataframe tbody tr th:only-of-type {\n",
       "        vertical-align: middle;\n",
       "    }\n",
       "\n",
       "    .dataframe tbody tr th {\n",
       "        vertical-align: top;\n",
       "    }\n",
       "\n",
       "    .dataframe thead th {\n",
       "        text-align: right;\n",
       "    }\n",
       "</style>\n",
       "<table border=\"1\" class=\"dataframe\">\n",
       "  <thead>\n",
       "    <tr style=\"text-align: right;\">\n",
       "      <th></th>\n",
       "      <th>cities</th>\n",
       "      <th>time</th>\n",
       "      <th>lat</th>\n",
       "      <th>lon</th>\n",
       "      <th>tasmax</th>\n",
       "    </tr>\n",
       "  </thead>\n",
       "  <tbody>\n",
       "    <tr>\n",
       "      <th>0</th>\n",
       "      <td>Tokyo</td>\n",
       "      <td>1950-01-01</td>\n",
       "      <td>35.625</td>\n",
       "      <td>139.625</td>\n",
       "      <td>281.38812</td>\n",
       "    </tr>\n",
       "    <tr>\n",
       "      <th>1</th>\n",
       "      <td>Tokyo</td>\n",
       "      <td>1950-02-01</td>\n",
       "      <td>35.625</td>\n",
       "      <td>139.625</td>\n",
       "      <td>281.84033</td>\n",
       "    </tr>\n",
       "    <tr>\n",
       "      <th>2</th>\n",
       "      <td>Tokyo</td>\n",
       "      <td>1950-03-01</td>\n",
       "      <td>35.625</td>\n",
       "      <td>139.625</td>\n",
       "      <td>283.07350</td>\n",
       "    </tr>\n",
       "    <tr>\n",
       "      <th>3</th>\n",
       "      <td>Tokyo</td>\n",
       "      <td>1950-04-01</td>\n",
       "      <td>35.625</td>\n",
       "      <td>139.625</td>\n",
       "      <td>289.07657</td>\n",
       "    </tr>\n",
       "    <tr>\n",
       "      <th>4</th>\n",
       "      <td>Tokyo</td>\n",
       "      <td>1950-05-01</td>\n",
       "      <td>35.625</td>\n",
       "      <td>139.625</td>\n",
       "      <td>293.34790</td>\n",
       "    </tr>\n",
       "  </tbody>\n",
       "</table>\n",
       "</div>"
      ],
      "text/plain": [
       "  cities       time     lat      lon     tasmax\n",
       "0  Tokyo 1950-01-01  35.625  139.625  281.38812\n",
       "1  Tokyo 1950-02-01  35.625  139.625  281.84033\n",
       "2  Tokyo 1950-03-01  35.625  139.625  283.07350\n",
       "3  Tokyo 1950-04-01  35.625  139.625  289.07657\n",
       "4  Tokyo 1950-05-01  35.625  139.625  293.34790"
      ]
     },
     "execution_count": 4,
     "metadata": {},
     "output_type": "execute_result"
    }
   ],
   "source": [
    "df1= pd.read_csv('Hist-month-tasmax.csv',skiprows=1)\n",
    "df1['time'] = pd.to_datetime(df1['time'])\n",
    "df1.head()"
   ]
  },
  {
   "cell_type": "code",
   "execution_count": 6,
   "id": "39f0bcbf-6cdf-4599-ae72-057e9feb0753",
   "metadata": {
    "tags": []
   },
   "outputs": [
    {
     "data": {
      "text/html": [
       "<div>\n",
       "<style scoped>\n",
       "    .dataframe tbody tr th:only-of-type {\n",
       "        vertical-align: middle;\n",
       "    }\n",
       "\n",
       "    .dataframe tbody tr th {\n",
       "        vertical-align: top;\n",
       "    }\n",
       "\n",
       "    .dataframe thead th {\n",
       "        text-align: right;\n",
       "    }\n",
       "</style>\n",
       "<table border=\"1\" class=\"dataframe\">\n",
       "  <thead>\n",
       "    <tr style=\"text-align: right;\">\n",
       "      <th></th>\n",
       "      <th>cities</th>\n",
       "      <th>time</th>\n",
       "      <th>lat</th>\n",
       "      <th>lon</th>\n",
       "      <th>tasmin</th>\n",
       "    </tr>\n",
       "  </thead>\n",
       "  <tbody>\n",
       "    <tr>\n",
       "      <th>0</th>\n",
       "      <td>Tokyo</td>\n",
       "      <td>1950-01-01</td>\n",
       "      <td>35.625</td>\n",
       "      <td>139.625</td>\n",
       "      <td>275.24900</td>\n",
       "    </tr>\n",
       "    <tr>\n",
       "      <th>1</th>\n",
       "      <td>Tokyo</td>\n",
       "      <td>1950-02-01</td>\n",
       "      <td>35.625</td>\n",
       "      <td>139.625</td>\n",
       "      <td>273.90646</td>\n",
       "    </tr>\n",
       "    <tr>\n",
       "      <th>2</th>\n",
       "      <td>Tokyo</td>\n",
       "      <td>1950-03-01</td>\n",
       "      <td>35.625</td>\n",
       "      <td>139.625</td>\n",
       "      <td>275.41818</td>\n",
       "    </tr>\n",
       "    <tr>\n",
       "      <th>3</th>\n",
       "      <td>Tokyo</td>\n",
       "      <td>1950-04-01</td>\n",
       "      <td>35.625</td>\n",
       "      <td>139.625</td>\n",
       "      <td>281.53793</td>\n",
       "    </tr>\n",
       "    <tr>\n",
       "      <th>4</th>\n",
       "      <td>Tokyo</td>\n",
       "      <td>1950-05-01</td>\n",
       "      <td>35.625</td>\n",
       "      <td>139.625</td>\n",
       "      <td>286.44050</td>\n",
       "    </tr>\n",
       "  </tbody>\n",
       "</table>\n",
       "</div>"
      ],
      "text/plain": [
       "  cities       time     lat      lon     tasmin\n",
       "0  Tokyo 1950-01-01  35.625  139.625  275.24900\n",
       "1  Tokyo 1950-02-01  35.625  139.625  273.90646\n",
       "2  Tokyo 1950-03-01  35.625  139.625  275.41818\n",
       "3  Tokyo 1950-04-01  35.625  139.625  281.53793\n",
       "4  Tokyo 1950-05-01  35.625  139.625  286.44050"
      ]
     },
     "execution_count": 6,
     "metadata": {},
     "output_type": "execute_result"
    }
   ],
   "source": [
    "df2= pd.read_csv('Hist-month-tasmin.csv',skiprows=1)\n",
    "df2['time'] = pd.to_datetime(df2['time'])\n",
    "df2.head()"
   ]
  },
  {
   "cell_type": "code",
   "execution_count": 8,
   "id": "25d933cf-54b2-4381-961b-6b1d47ae0384",
   "metadata": {
    "tags": []
   },
   "outputs": [],
   "source": [
    "df2=df2.drop(['lat','lon'],axis=1)"
   ]
  },
  {
   "cell_type": "code",
   "execution_count": 10,
   "id": "87a635a7-3e0e-466b-8cad-87afed5cef21",
   "metadata": {
    "tags": []
   },
   "outputs": [],
   "source": [
    "final=pd.merge(df1,df2,on=['cities','time'])"
   ]
  },
  {
   "cell_type": "code",
   "execution_count": 12,
   "id": "7843dd26-4fc8-48af-8750-4e71f01bdbd8",
   "metadata": {
    "tags": []
   },
   "outputs": [
    {
     "data": {
      "text/plain": [
       "(83460, 6)"
      ]
     },
     "execution_count": 12,
     "metadata": {},
     "output_type": "execute_result"
    }
   ],
   "source": [
    "final.shape"
   ]
  },
  {
   "cell_type": "code",
   "execution_count": 16,
   "id": "bfce716b-d268-4e5f-8430-1a8b40d279e9",
   "metadata": {
    "tags": []
   },
   "outputs": [
    {
     "data": {
      "text/html": [
       "<div>\n",
       "<style scoped>\n",
       "    .dataframe tbody tr th:only-of-type {\n",
       "        vertical-align: middle;\n",
       "    }\n",
       "\n",
       "    .dataframe tbody tr th {\n",
       "        vertical-align: top;\n",
       "    }\n",
       "\n",
       "    .dataframe thead th {\n",
       "        text-align: right;\n",
       "    }\n",
       "</style>\n",
       "<table border=\"1\" class=\"dataframe\">\n",
       "  <thead>\n",
       "    <tr style=\"text-align: right;\">\n",
       "      <th></th>\n",
       "      <th>cities</th>\n",
       "      <th>time</th>\n",
       "      <th>lat</th>\n",
       "      <th>lon</th>\n",
       "      <th>pr</th>\n",
       "    </tr>\n",
       "  </thead>\n",
       "  <tbody>\n",
       "    <tr>\n",
       "      <th>0</th>\n",
       "      <td>Tokyo</td>\n",
       "      <td>1950-01-01</td>\n",
       "      <td>35.625</td>\n",
       "      <td>139.625</td>\n",
       "      <td>151.38026</td>\n",
       "    </tr>\n",
       "    <tr>\n",
       "      <th>1</th>\n",
       "      <td>Tokyo</td>\n",
       "      <td>1950-02-01</td>\n",
       "      <td>35.625</td>\n",
       "      <td>139.625</td>\n",
       "      <td>64.06377</td>\n",
       "    </tr>\n",
       "    <tr>\n",
       "      <th>2</th>\n",
       "      <td>Tokyo</td>\n",
       "      <td>1950-03-01</td>\n",
       "      <td>35.625</td>\n",
       "      <td>139.625</td>\n",
       "      <td>54.90432</td>\n",
       "    </tr>\n",
       "    <tr>\n",
       "      <th>3</th>\n",
       "      <td>Tokyo</td>\n",
       "      <td>1950-04-01</td>\n",
       "      <td>35.625</td>\n",
       "      <td>139.625</td>\n",
       "      <td>138.73988</td>\n",
       "    </tr>\n",
       "    <tr>\n",
       "      <th>4</th>\n",
       "      <td>Tokyo</td>\n",
       "      <td>1950-05-01</td>\n",
       "      <td>35.625</td>\n",
       "      <td>139.625</td>\n",
       "      <td>188.84598</td>\n",
       "    </tr>\n",
       "  </tbody>\n",
       "</table>\n",
       "</div>"
      ],
      "text/plain": [
       "  cities       time     lat      lon         pr\n",
       "0  Tokyo 1950-01-01  35.625  139.625  151.38026\n",
       "1  Tokyo 1950-02-01  35.625  139.625   64.06377\n",
       "2  Tokyo 1950-03-01  35.625  139.625   54.90432\n",
       "3  Tokyo 1950-04-01  35.625  139.625  138.73988\n",
       "4  Tokyo 1950-05-01  35.625  139.625  188.84598"
      ]
     },
     "execution_count": 16,
     "metadata": {},
     "output_type": "execute_result"
    }
   ],
   "source": [
    "df3= pd.read_csv('Hist-month-pr.csv',skiprows=1)\n",
    "df3['time'] = pd.to_datetime(df3['time'])\n",
    "df3.head()"
   ]
  },
  {
   "cell_type": "code",
   "execution_count": 18,
   "id": "e63d8a64-79fe-4ce0-a416-cce0d7b4ea31",
   "metadata": {
    "tags": []
   },
   "outputs": [],
   "source": [
    "df3=df3.drop(['lat','lon'],axis=1)"
   ]
  },
  {
   "cell_type": "code",
   "execution_count": 20,
   "id": "b677094c-dc49-4a52-bf5e-b15e9a3c433e",
   "metadata": {
    "tags": []
   },
   "outputs": [],
   "source": [
    "df=pd.merge(final,df3,on=['cities','time'])"
   ]
  },
  {
   "cell_type": "code",
   "execution_count": 22,
   "id": "057c0003-3cef-4cd5-8de7-178f804cbec5",
   "metadata": {
    "tags": []
   },
   "outputs": [
    {
     "data": {
      "text/html": [
       "<div>\n",
       "<style scoped>\n",
       "    .dataframe tbody tr th:only-of-type {\n",
       "        vertical-align: middle;\n",
       "    }\n",
       "\n",
       "    .dataframe tbody tr th {\n",
       "        vertical-align: top;\n",
       "    }\n",
       "\n",
       "    .dataframe thead th {\n",
       "        text-align: right;\n",
       "    }\n",
       "</style>\n",
       "<table border=\"1\" class=\"dataframe\">\n",
       "  <thead>\n",
       "    <tr style=\"text-align: right;\">\n",
       "      <th></th>\n",
       "      <th>cities</th>\n",
       "      <th>time</th>\n",
       "      <th>lat</th>\n",
       "      <th>lon</th>\n",
       "      <th>tasmax</th>\n",
       "      <th>tasmin</th>\n",
       "      <th>pr</th>\n",
       "    </tr>\n",
       "  </thead>\n",
       "  <tbody>\n",
       "    <tr>\n",
       "      <th>0</th>\n",
       "      <td>Tokyo</td>\n",
       "      <td>1950-01-01</td>\n",
       "      <td>35.625</td>\n",
       "      <td>139.625</td>\n",
       "      <td>281.38812</td>\n",
       "      <td>275.24900</td>\n",
       "      <td>151.38026</td>\n",
       "    </tr>\n",
       "    <tr>\n",
       "      <th>1</th>\n",
       "      <td>Tokyo</td>\n",
       "      <td>1950-02-01</td>\n",
       "      <td>35.625</td>\n",
       "      <td>139.625</td>\n",
       "      <td>281.84033</td>\n",
       "      <td>273.90646</td>\n",
       "      <td>64.06377</td>\n",
       "    </tr>\n",
       "    <tr>\n",
       "      <th>2</th>\n",
       "      <td>Tokyo</td>\n",
       "      <td>1950-03-01</td>\n",
       "      <td>35.625</td>\n",
       "      <td>139.625</td>\n",
       "      <td>283.07350</td>\n",
       "      <td>275.41818</td>\n",
       "      <td>54.90432</td>\n",
       "    </tr>\n",
       "    <tr>\n",
       "      <th>3</th>\n",
       "      <td>Tokyo</td>\n",
       "      <td>1950-04-01</td>\n",
       "      <td>35.625</td>\n",
       "      <td>139.625</td>\n",
       "      <td>289.07657</td>\n",
       "      <td>281.53793</td>\n",
       "      <td>138.73988</td>\n",
       "    </tr>\n",
       "    <tr>\n",
       "      <th>4</th>\n",
       "      <td>Tokyo</td>\n",
       "      <td>1950-05-01</td>\n",
       "      <td>35.625</td>\n",
       "      <td>139.625</td>\n",
       "      <td>293.34790</td>\n",
       "      <td>286.44050</td>\n",
       "      <td>188.84598</td>\n",
       "    </tr>\n",
       "  </tbody>\n",
       "</table>\n",
       "</div>"
      ],
      "text/plain": [
       "  cities       time     lat      lon     tasmax     tasmin         pr\n",
       "0  Tokyo 1950-01-01  35.625  139.625  281.38812  275.24900  151.38026\n",
       "1  Tokyo 1950-02-01  35.625  139.625  281.84033  273.90646   64.06377\n",
       "2  Tokyo 1950-03-01  35.625  139.625  283.07350  275.41818   54.90432\n",
       "3  Tokyo 1950-04-01  35.625  139.625  289.07657  281.53793  138.73988\n",
       "4  Tokyo 1950-05-01  35.625  139.625  293.34790  286.44050  188.84598"
      ]
     },
     "execution_count": 22,
     "metadata": {},
     "output_type": "execute_result"
    }
   ],
   "source": [
    "df.head()"
   ]
  },
  {
   "cell_type": "code",
   "execution_count": 24,
   "id": "526f6e10-0935-4979-8cc3-0c468ea7b614",
   "metadata": {
    "tags": []
   },
   "outputs": [
    {
     "data": {
      "text/plain": [
       "(83460, 7)"
      ]
     },
     "execution_count": 24,
     "metadata": {},
     "output_type": "execute_result"
    }
   ],
   "source": [
    "df.shape"
   ]
  },
  {
   "cell_type": "code",
   "execution_count": 26,
   "id": "57f78b6a-f34f-41db-85db-8558353ba62b",
   "metadata": {
    "tags": []
   },
   "outputs": [],
   "source": [
    "df.to_csv('Hist-month.csv')"
   ]
  },
  {
   "cell_type": "code",
   "execution_count": 37,
   "id": "c561413f-4503-4056-a348-0dfb6bd350a3",
   "metadata": {},
   "outputs": [
    {
     "data": {
      "text/plain": [
       "cities    0\n",
       "time      0\n",
       "lat       0\n",
       "lon       0\n",
       "pr        0\n",
       "tasmax    0\n",
       "tasmin    0\n",
       "dtype: int64"
      ]
     },
     "execution_count": 37,
     "metadata": {},
     "output_type": "execute_result"
    }
   ],
   "source": []
  },
  {
   "cell_type": "code",
   "execution_count": null,
   "id": "7d06edd4-b832-4ffa-8eb8-35d9d917fbea",
   "metadata": {},
   "outputs": [],
   "source": []
  }
 ],
 "metadata": {
  "kernelspec": {
   "display_name": "Python 3 (ipykernel)",
   "language": "python",
   "name": "python3"
  },
  "language_info": {
   "codemirror_mode": {
    "name": "ipython",
    "version": 3
   },
   "file_extension": ".py",
   "mimetype": "text/x-python",
   "name": "python",
   "nbconvert_exporter": "python",
   "pygments_lexer": "ipython3",
   "version": "3.11.8"
  }
 },
 "nbformat": 4,
 "nbformat_minor": 5
}
